{
 "cells": [
  {
   "cell_type": "markdown",
   "metadata": {
    "slideshow": {
     "slide_type": "slide"
    }
   },
   "source": [
    "## Want to have a spell checker for Jupyter? \n",
    "\n",
    "Open Anaconda Prompt (Windows) or Terminal (Mac) and use the following commands (no ticks \\` if you are copying from the raw notebook):\n",
    "\n",
    "`pip install jupyter_contrib_nbextensions\n",
    "jupyter contrib nbextension install --user\n",
    "jupyter nbextension enable spellchecker/main`"
   ]
  },
  {
   "cell_type": "markdown",
   "metadata": {
    "slideshow": {
     "slide_type": "slide"
    }
   },
   "source": [
    "To install `Rise`, which is an add-on for Jupyter notebooks to create slide shows:\n",
    "\n",
    "`conda install -c conda-forge rise`"
   ]
  },
  {
   "cell_type": "markdown",
   "metadata": {
    "slideshow": {
     "slide_type": "slide"
    }
   },
   "source": [
    "# 1.2 Getting Started with the NLTK\n",
    "Natural Language Toolkit\n",
    "\n",
    "Start by importing the nltk and installing the book files that we are going to use this semester. You will see a download option pop up after you run the next chunk. Double click on the \"book\" collection to install the information we need for the semester. "
   ]
  },
  {
   "cell_type": "code",
   "execution_count": 1,
   "metadata": {
    "slideshow": {
     "slide_type": "slide"
    }
   },
   "outputs": [],
   "source": [
    "import nltk\n",
    "import matplotlib.pyplot as plt \n",
    "#nltk.download()"
   ]
  },
  {
   "cell_type": "markdown",
   "metadata": {
    "slideshow": {
     "slide_type": "slide"
    }
   },
   "source": [
    "Next step is to import the information you will need for an analysis using the import function. "
   ]
  },
  {
   "cell_type": "code",
   "execution_count": 2,
   "metadata": {
    "scrolled": false
   },
   "outputs": [
    {
     "name": "stdout",
     "output_type": "stream",
     "text": [
      "*** Introductory Examples for the NLTK Book ***\n",
      "Loading text1, ..., text9 and sent1, ..., sent9\n",
      "Type the name of the text or sentence to view it.\n",
      "Type: 'texts()' or 'sents()' to list the materials.\n",
      "text1: Moby Dick by Herman Melville 1851\n",
      "text2: Sense and Sensibility by Jane Austen 1811\n",
      "text3: The Book of Genesis\n",
      "text4: Inaugural Address Corpus\n",
      "text5: Chat Corpus\n",
      "text6: Monty Python and the Holy Grail\n",
      "text7: Wall Street Journal\n",
      "text8: Personals Corpus\n",
      "text9: The Man Who Was Thursday by G . K . Chesterton 1908\n"
     ]
    }
   ],
   "source": [
    "from nltk.book import *"
   ]
  },
  {
   "cell_type": "markdown",
   "metadata": {
    "slideshow": {
     "slide_type": "slide"
    }
   },
   "source": [
    "You can view the variables by typing them and running it - remember Spyder can show you these in the variable explorer. "
   ]
  },
  {
   "cell_type": "code",
   "execution_count": 3,
   "metadata": {},
   "outputs": [
    {
     "name": "stdout",
     "output_type": "stream",
     "text": [
      "<Text: Moby Dick by Herman Melville 1851>\n"
     ]
    }
   ],
   "source": [
    "print(text1)"
   ]
  },
  {
   "cell_type": "markdown",
   "metadata": {
    "slideshow": {
     "slide_type": "slide"
    }
   },
   "source": [
    "# 1.3 Searching Text\n",
    "\n",
    "The concordance function: shows every occurrence of a specific word. \n",
    "\n",
    "*name_of_variable*.concordance(\"*thing to search for*\")\n",
    "\n",
    "Try changing the word you are searching for or the text file that you are searching."
   ]
  },
  {
   "cell_type": "code",
   "execution_count": 34,
   "metadata": {
    "scrolled": true
   },
   "outputs": [
    {
     "name": "stdout",
     "output_type": "stream",
     "text": [
      "Displaying 11 of 11 matches:\n",
      "ong the former , one was of a most monstrous size . ... This came towards us , \n",
      "ON OF THE PSALMS . \" Touching that monstrous bulk of the whale or ork we have r\n",
      "ll over with a heathenish array of monstrous clubs and spears . Some were thick\n",
      "d as you gazed , and wondered what monstrous cannibal and savage could ever hav\n",
      "that has survived the flood ; most monstrous and most mountainous ! That Himmal\n",
      "they might scout at Moby Dick as a monstrous fable , or still worse and more de\n",
      "th of Radney .'\" CHAPTER 55 Of the Monstrous Pictures of Whales . I shall ere l\n",
      "ing Scenes . In connexion with the monstrous pictures of whales , I am strongly\n",
      "ere to enter upon those still more monstrous stories of them which are to be fo\n",
      "ght have been rummaged out of this monstrous cabinet there is no telling . But \n",
      "of Whale - Bones ; for Whales of a monstrous size are oftentimes cast up dead u\n"
     ]
    }
   ],
   "source": [
    "text1.concordance(\"monstrous\")"
   ]
  },
  {
   "cell_type": "markdown",
   "metadata": {
    "slideshow": {
     "slide_type": "slide"
    }
   },
   "source": [
    "The similar function: find the words that are used in the same context as the selected word. \n",
    "\n",
    "*name_of_variable*.similar(\"*thing to search for*\")"
   ]
  },
  {
   "cell_type": "code",
   "execution_count": 5,
   "metadata": {
    "scrolled": true
   },
   "outputs": [
    {
     "name": "stdout",
     "output_type": "stream",
     "text": [
      "true contemptible christian abundant few part mean careful puzzled\n",
      "mystifying passing curious loving wise doleful gamesome singular\n",
      "delightfully perilous fearless\n",
      "\n",
      "very so exceedingly heartily a as good great extremely remarkably\n",
      "sweet vast amazingly\n"
     ]
    },
    {
     "data": {
      "text/plain": [
       "<Text: Sense and Sensibility by Jane Austen 1811>"
      ]
     },
     "execution_count": 5,
     "metadata": {},
     "output_type": "execute_result"
    }
   ],
   "source": [
    "text1.similar(\"monstrous\")\n",
    "print() #I used this to create a space in the output\n",
    "text2.similar(\"monstrous\")\n",
    "text2"
   ]
  },
  {
   "cell_type": "markdown",
   "metadata": {
    "slideshow": {
     "slide_type": "slide"
    }
   },
   "source": [
    "The common_contexts function: looks at two or more words and gives you the contexts shared by those words. \n",
    "\n",
    "*name_of_variable*.common_contexts([\"*thing to search for*\", \"*thing to search for*\"])"
   ]
  },
  {
   "cell_type": "code",
   "execution_count": 6,
   "metadata": {},
   "outputs": [
    {
     "name": "stdout",
     "output_type": "stream",
     "text": [
      "a_pretty am_glad a_lucky is_pretty be_glad\n"
     ]
    }
   ],
   "source": [
    "text2.common_contexts([\"monstrous\", \"very\"])"
   ]
  },
  {
   "cell_type": "markdown",
   "metadata": {
    "slideshow": {
     "slide_type": "slide"
    }
   },
   "source": [
    "Dispersion plots: showing where specific words are located in a text in relation to other words. Each row is the text, while the lines on the plot show the location of the word for that row. \n",
    "\n",
    "**NOTE:** To get the plot to display inline here in Jupyter, I had to import the display function from IPython package. If this does not work, try installing ghostscript and try again ( https://wiki.scribus.net/canvas/Installation_and_Configuration_of_Ghostscript ).\n",
    "\n",
    "*name_of_variable*.dispersion_plot([\"list words\", \"list words\"])"
   ]
  },
  {
   "cell_type": "code",
   "execution_count": 38,
   "metadata": {
    "scrolled": true,
    "slideshow": {
     "slide_type": "slide"
    }
   },
   "outputs": [
    {
     "data": {
      "image/png": "[encoded data removed]",
      "text/plain": [
       "<Figure size 720x576 with 1 Axes>"
      ]
     },
     "metadata": {
      "needs_background": "light"
     },
     "output_type": "display_data"
    },
    {
     "name": "stdout",
     "output_type": "stream",
     "text": [
      "<Text: Inaugural Address Corpus>\n"
     ]
    }
   ],
   "source": [
    "from IPython.display import display\n",
    "plt.figure(figsize=(10, 8))\n",
    "text4.dispersion_plot([\"citizens\", \"democracy\", \"freedom\", \"duties\", \"America\"])\n",
    "print(text4)"
   ]
  },
  {
   "cell_type": "markdown",
   "metadata": {
    "slideshow": {
     "slide_type": "slide"
    }
   },
   "source": [
    "**Note:** The generate function has been taken out of NLTK3+.\n",
    "\n",
    "# 1.4 Counting Vocabulary\n",
    "\n",
    "The len function: tells you the length of an object, in this case the number of words in a text. \n",
    "\n",
    "len(*name_of_variable*)"
   ]
  },
  {
   "cell_type": "code",
   "execution_count": 40,
   "metadata": {},
   "outputs": [
    {
     "name": "stdout",
     "output_type": "stream",
     "text": [
      "44764\n",
      "<Text: The Book of Genesis>\n"
     ]
    }
   ],
   "source": [
    "print(len(text3))\n",
    "print(text3)"
   ]
  },
  {
   "cell_type": "markdown",
   "metadata": {
    "slideshow": {
     "slide_type": "slide"
    }
   },
   "source": [
    "Reminder of some terms we learned in lecture:\n",
    "\n",
    "**Tokens**: sequence of characters that we want to treat as a group. In this example, we have len() to tell us the number of words, but how many **types** (or unique words) are there?\n",
    "\n",
    "The set function: takes a variable and creates a unique list of the objects in it. All duplicates will be collapsed together (however, remember that spaces and punctuation can cause you issues - to be dealt with at a later time on how to clean up the data).\n",
    "\n",
    "set(*name_of_variable*)\n",
    "\n",
    "If we were to run set(text3), we would see all the words in text3. If you want to get those in alphabetical order use:\n",
    "\n",
    "The sorted function: sorts a list of objects.\n",
    "\n",
    "sorted(*name_of_variable*) - or in this case sorted(set(*name_of_variable*))"
   ]
  },
  {
   "cell_type": "code",
   "execution_count": 42,
   "metadata": {
    "slideshow": {
     "slide_type": "slide"
    }
   },
   "outputs": [
    {
     "data": {
      "text/plain": [
       "2789"
      ]
     },
     "execution_count": 42,
     "metadata": {},
     "output_type": "execute_result"
    }
   ],
   "source": [
    "#print(sorted(set(text3))) #take off the comment and run this to see what it looks like, it prints a large list of unique tokens for our text.\n",
    "len(set(text3))\n"
   ]
  },
  {
   "cell_type": "markdown",
   "metadata": {
    "slideshow": {
     "slide_type": "slide"
    }
   },
   "source": [
    "**Lexical Richness**: percent of the number of distinct words (types) is of the total word count."
   ]
  },
  {
   "cell_type": "code",
   "execution_count": 10,
   "metadata": {},
   "outputs": [
    {
     "data": {
      "text/plain": [
       "0.06230453042623537"
      ]
     },
     "execution_count": 10,
     "metadata": {},
     "output_type": "execute_result"
    }
   ],
   "source": [
    "len(set(text3)) / len(text3)"
   ]
  },
  {
   "cell_type": "markdown",
   "metadata": {
    "slideshow": {
     "slide_type": "slide"
    }
   },
   "source": [
    "The count function: allows you to count the number of times something has occurred.\n",
    "\n",
    "*name_of_variable*.count(\"*thing to count*\")"
   ]
  },
  {
   "cell_type": "code",
   "execution_count": 49,
   "metadata": {
    "scrolled": true
   },
   "outputs": [
    {
     "name": "stdout",
     "output_type": "stream",
     "text": [
      "5\n",
      "0.01116968992940756\n"
     ]
    },
    {
     "data": {
      "text/plain": [
       "1.4643016433938312"
      ]
     },
     "execution_count": 49,
     "metadata": {},
     "output_type": "execute_result"
    }
   ],
   "source": [
    "#to get raw word count\n",
    "print(text3.count(\"smote\")) #why did I use print here\n",
    "print(100 * text3.count(\"smote\") / len(text3))\n",
    "#to get percentage\n",
    "100 * text4.count(\"a\") / len(text4)"
   ]
  },
  {
   "cell_type": "markdown",
   "metadata": {
    "slideshow": {
     "slide_type": "slide"
    }
   },
   "source": [
    "To calculate the percent for lots of words might take a long time if we continued to use the code above. Instead, we can write our own function to shorten that task.\n",
    "\n",
    "The def function: allows you to define a function of your own naming (don't use function names we've already encountered). Spacing here is important! When you create a code *block*, you will need to space/tab over to indicate that the code is still part of the lines before it. It will look something like this:\n",
    "\n",
    "def *name_of_function*(*name_of_objects_to_expect*):\n",
    "    return *things you want the function to do*\n",
    "\n",
    "Note that Jupyter understands that you are wanting to create a block of code, so it spaces over for you when you hit the enter key after the colon :. The names of objects to expect are called arguments - these are temporary place holders for the values that the user should fill in. "
   ]
  },
  {
   "cell_type": "code",
   "execution_count": 53,
   "metadata": {
    "slideshow": {
     "slide_type": "slide"
    }
   },
   "outputs": [
    {
     "data": {
      "text/plain": [
       "6.2304530426235365"
      ]
     },
     "execution_count": 53,
     "metadata": {},
     "output_type": "execute_result"
    }
   ],
   "source": [
    "def lexical_diversity(text):\n",
    "    return 100 * len(set(text)) / len(text) #why didn't I use text1? What is text here?\n",
    "\n",
    "lexical_diversity(text3) #note we made this a percentage"
   ]
  },
  {
   "cell_type": "code",
   "execution_count": 55,
   "metadata": {},
   "outputs": [
    {
     "data": {
      "text/plain": [
       "6.3684084125295914"
      ]
     },
     "execution_count": 55,
     "metadata": {},
     "output_type": "execute_result"
    }
   ],
   "source": [
    "def percent_text(count, total):\n",
    "    return 100 * count / total\n",
    "\n",
    "percent_text(text4.count(\"a\"), len(text4))"
   ]
  },
  {
   "cell_type": "markdown",
   "metadata": {
    "slideshow": {
     "slide_type": "slide"
    }
   },
   "source": [
    "# 2 Lists, Variables, Strings\n",
    "\n",
    "Texts are structured information - even though we often think of language as \"unstructured data\". For our purposes, we are going to think of texts as a giant \"bag of words\" with punctuation. However, in Python, they are often represented as lists. \n",
    "\n",
    "Several lists have been created as part of NLTK, so we have already imported them from running our import function earlier. If we had wanted to create a list we could use:\n",
    "\n",
    "*name_of_variable* = [\"some\", \"text\", \"here\", \".\"]"
   ]
  },
  {
   "cell_type": "code",
   "execution_count": 56,
   "metadata": {
    "scrolled": true,
    "slideshow": {
     "slide_type": "slide"
    }
   },
   "outputs": [
    {
     "name": "stdout",
     "output_type": "stream",
     "text": [
      "['some', 'text', 'here', '.']\n",
      "['Call', 'me', 'Ishmael', '.', 'Some']\n",
      "4\n",
      "100.0\n"
     ]
    }
   ],
   "source": [
    "erin_example = [\"some\", \"text\", \"here\", \".\"]\n",
    "\n",
    "print(erin_example)\n",
    "print(sent1)\n",
    "print(len(erin_example))\n",
    "print(lexical_diversity(sent1))"
   ]
  },
  {
   "cell_type": "markdown",
   "metadata": {
    "slideshow": {
     "slide_type": "slide"
    }
   },
   "source": [
    "You can do all sorts of things with lists. Here are some examples:\n",
    "\n",
    "- add them together: sent4+sent1 just *concatenates* (or combines) the two lists together.\n",
    "- add new things to a list - append\n",
    "- index (find things) in the list using numbers and slicing \n",
    "\n",
    "The append function: adds information to the end of a list.\n",
    "\n",
    "*name_of_variable*.append(\"text\")"
   ]
  },
  {
   "cell_type": "code",
   "execution_count": 63,
   "metadata": {},
   "outputs": [
    {
     "data": {
      "text/plain": [
       "['Call',\n",
       " 'me',\n",
       " 'Ishmael',\n",
       " '.',\n",
       " 'Some',\n",
       " 'Some',\n",
       " 'Some',\n",
       " 'Some',\n",
       " 'Some',\n",
       " 'Some',\n",
       " 'Some',\n",
       " 'Some',\n",
       " 'Fellow',\n",
       " '-',\n",
       " 'Citizens',\n",
       " 'of',\n",
       " 'the',\n",
       " 'Senate',\n",
       " 'and',\n",
       " 'of',\n",
       " 'the',\n",
       " 'House',\n",
       " 'of',\n",
       " 'Representatives',\n",
       " ':']"
      ]
     },
     "execution_count": 63,
     "metadata": {},
     "output_type": "execute_result"
    }
   ],
   "source": [
    "sent1.append(\"Some\")\n",
    "print(sent1)\n",
    "sent1 + sent4"
   ]
  },
  {
   "cell_type": "markdown",
   "metadata": {
    "slideshow": {
     "slide_type": "slide"
    }
   },
   "source": [
    "Indexing: finding specific areas of a list. Python is **zero-indexing** language. Many of you likely know *R* - be sure to remember that the first item/row/etc. in Python is ZERO not ONE. \n",
    "\n",
    "The index function: this function will tell you where something is located.\n",
    "\n",
    "*name_of_variable*.index(\"text\")"
   ]
  },
  {
   "cell_type": "code",
   "execution_count": 65,
   "metadata": {
    "scrolled": true
   },
   "outputs": [
    {
     "name": "stdout",
     "output_type": "stream",
     "text": [
      "awaken\n",
      "173\n"
     ]
    }
   ],
   "source": [
    "print(text4[173]) #pulls the 174th item\n",
    "print(text4.index(\"awaken\"))"
   ]
  },
  {
   "cell_type": "markdown",
   "metadata": {
    "slideshow": {
     "slide_type": "slide"
    }
   },
   "source": [
    "Slicing: picking a set of objects from a list - for example, items number 5 through 10 in a list, rather than 5, then 6, then 7...\n",
    "\n",
    "Use the colon to denote you want number **up until** number. For example, 5:10 is 5, 6, 7, 8, 9 ... this does not include 10 (another confusing thing if you are a *R* person). \n",
    "\n",
    "If you leave the number blank before the colon, you will get the beginning of the list up until the number ( :4 is 0, 1, 2, 3) and the reverse is true for a blank after the colon (for a list of 10 objects 5: gives you 5, 6, 7, 8, 9)"
   ]
  },
  {
   "cell_type": "code",
   "execution_count": 17,
   "metadata": {},
   "outputs": [
    {
     "name": "stdout",
     "output_type": "stream",
     "text": [
      "2\n",
      "[1, 2, 3, 4]\n",
      "[6, 7, 8, 9, 10]\n"
     ]
    }
   ],
   "source": [
    "listofthings = [1,2,3,4,5,6,7,8,9,10]\n",
    "print(listofthings[1])\n",
    "print(listofthings[:4])\n",
    "print(listofthings[5:])\n"
   ]
  },
  {
   "cell_type": "markdown",
   "metadata": {
    "slideshow": {
     "slide_type": "slide"
    }
   },
   "source": [
    "Some reminders about variable names:\n",
    "- Cannot use reserved words\n",
    "- Try not to use function names (like print, len, etc.)\n",
    "- Cannot start with a number\n",
    "- Capitalization matters\n",
    "- No spaces or minus signs (-)\n",
    "\n",
    "Everything we've been working with have been strings (characters), but they have been stored in lists. Individual strings can be \"added\" or \"multiplied\" or sliced as described above. "
   ]
  },
  {
   "cell_type": "markdown",
   "metadata": {
    "slideshow": {
     "slide_type": "slide"
    }
   },
   "source": [
    "# 3 Computing Simple Statistics on Language\n",
    "\n",
    "The FreqDist function: creates a **frequency distribution** or a histogram of the frequency of each token in a text.\n",
    "\n",
    "FreqDist(*name_of_variable*)\n",
    "\n",
    "The most_common function: displays a set number of the most frequent tokens.\n",
    "\n",
    "*name_of_saved_FreqDist*.most_common(number)"
   ]
  },
  {
   "cell_type": "code",
   "execution_count": 18,
   "metadata": {
    "slideshow": {
     "slide_type": "slide"
    }
   },
   "outputs": [
    {
     "name": "stdout",
     "output_type": "stream",
     "text": [
      "<FreqDist with 19317 samples and 260819 outcomes>\n"
     ]
    },
    {
     "data": {
      "text/plain": [
       "[(',', 18713),\n",
       " ('the', 13721),\n",
       " ('.', 6862),\n",
       " ('of', 6536),\n",
       " ('and', 6024),\n",
       " ('a', 4569),\n",
       " ('to', 4542),\n",
       " (';', 4072),\n",
       " ('in', 3916),\n",
       " ('that', 2982)]"
      ]
     },
     "execution_count": 18,
     "metadata": {},
     "output_type": "execute_result"
    }
   ],
   "source": [
    "fdist1 = FreqDist(text1) #we are saving it to use it\n",
    "print(fdist1) \n",
    "fdist1.most_common(10)"
   ]
  },
  {
   "cell_type": "markdown",
   "metadata": {
    "slideshow": {
     "slide_type": "slide"
    }
   },
   "source": [
    "These first words are the worker-bees of language - prepositions and determinants. Since we are looking at Moby Dick, let's try looking for the specific noun whale."
   ]
  },
  {
   "cell_type": "code",
   "execution_count": 67,
   "metadata": {},
   "outputs": [
    {
     "data": {
      "text/plain": [
       "906"
      ]
     },
     "execution_count": 67,
     "metadata": {},
     "output_type": "execute_result"
    }
   ],
   "source": [
    "fdist1[\"whale\"]"
   ]
  },
  {
   "cell_type": "markdown",
   "metadata": {
    "slideshow": {
     "slide_type": "slide"
    }
   },
   "source": [
    "A noun that occurs that many times is quite a lot. Let's make a frequency distribution for book to view what else there might be.\n",
    "\n",
    "The plot function: this function varies based on what you are doing, but here we are going to use it to make a cumulative frequency plot (rather than a histogram type frequency distribution).\n",
    "\n",
    "*name_of_variable*.plot(*number of items to plot*, cumulative = True)"
   ]
  },
  {
   "cell_type": "code",
   "execution_count": 20,
   "metadata": {
    "slideshow": {
     "slide_type": "slide"
    }
   },
   "outputs": [
    {
     "data": {
      "image/png": "[encoded data removed]",
      "text/plain": [
       "<Figure size 720x576 with 1 Axes>"
      ]
     },
     "metadata": {
      "needs_background": "light"
     },
     "output_type": "display_data"
    }
   ],
   "source": [
    "plt.figure(figsize=(10, 8))\n",
    "fdist1.plot(50, cumulative=True)"
   ]
  },
  {
   "cell_type": "code",
   "execution_count": 21,
   "metadata": {
    "scrolled": true,
    "slideshow": {
     "slide_type": "slide"
    }
   },
   "outputs": [
    {
     "data": {
      "image/png": "[encoded data removed]",
      "text/plain": [
       "<Figure size 720x576 with 1 Axes>"
      ]
     },
     "metadata": {
      "needs_background": "light"
     },
     "output_type": "display_data"
    }
   ],
   "source": [
    "plt.figure(figsize=(10, 8))\n",
    "fdist1.plot(50, cumulative=False)"
   ]
  },
  {
   "cell_type": "markdown",
   "metadata": {
    "slideshow": {
     "slide_type": "slide"
    }
   },
   "source": [
    "What can we determine between these two plots? \n",
    "\n",
    "We might also consider the *least* frequent words - *hapaxes*.\n",
    "\n",
    "The hapaxes function: words that only appear once in the text.\n",
    "\n",
    "*name_of_variable*.hapaxes()"
   ]
  },
  {
   "cell_type": "code",
   "execution_count": 22,
   "metadata": {
    "scrolled": true
   },
   "outputs": [
    {
     "data": {
      "text/plain": [
       "['Herman',\n",
       " 'Melville',\n",
       " ']',\n",
       " 'ETYMOLOGY',\n",
       " 'Late',\n",
       " 'Consumptive',\n",
       " 'School',\n",
       " 'threadbare',\n",
       " 'lexicons',\n",
       " 'mockingly']"
      ]
     },
     "execution_count": 22,
     "metadata": {},
     "output_type": "execute_result"
    }
   ],
   "source": [
    "fdist1.hapaxes()[0:10]"
   ]
  },
  {
   "cell_type": "markdown",
   "metadata": {
    "slideshow": {
     "slide_type": "slide"
    }
   },
   "source": [
    "# 3.2 Choosing Specific Subsets \n",
    "\n",
    "Let's say we wanted to find all words with specific characteristics. You could define the subset in any particular way (all words that are 15 characters or longer, all words that start with b, etc.). \n",
    "\n",
    "How would we do that? We would need to find the information that meets our criteria:\n",
    "\n",
    "The if function: takes a condition statement (something to verify if true or false) and executes if the condition statement is true.\n",
    "\n",
    "The for/in function (for loops): takes a set and consecutively runs each item in the set. So, if you say for x in range(0, 3) ... you will get x = 0, x = 1, x = 2, etc. until you run out of items. "
   ]
  },
  {
   "cell_type": "code",
   "execution_count": 23,
   "metadata": {},
   "outputs": [
    {
     "name": "stdout",
     "output_type": "stream",
     "text": [
      "0\n",
      "1\n",
      "2\n"
     ]
    }
   ],
   "source": [
    "for x in range(0, 3):\n",
    "    print(x)"
   ]
  },
  {
   "cell_type": "code",
   "execution_count": 24,
   "metadata": {
    "slideshow": {
     "slide_type": "slide"
    }
   },
   "outputs": [
    {
     "data": {
      "text/plain": [
       "['CIRCUMNAVIGATION',\n",
       " 'Physiognomically',\n",
       " 'apprehensiveness',\n",
       " 'cannibalistically',\n",
       " 'characteristically',\n",
       " 'circumnavigating',\n",
       " 'circumnavigation',\n",
       " 'circumnavigations',\n",
       " 'comprehensiveness',\n",
       " 'hermaphroditical',\n",
       " 'indiscriminately',\n",
       " 'indispensableness',\n",
       " 'irresistibleness',\n",
       " 'physiognomically',\n",
       " 'preternaturalness',\n",
       " 'responsibilities',\n",
       " 'simultaneousness',\n",
       " 'subterraneousness',\n",
       " 'supernaturalness',\n",
       " 'superstitiousness',\n",
       " 'uncomfortableness',\n",
       " 'uncompromisedness',\n",
       " 'undiscriminating',\n",
       " 'uninterpenetratingly']"
      ]
     },
     "execution_count": 24,
     "metadata": {},
     "output_type": "execute_result"
    }
   ],
   "source": [
    "V = set(text1) #create the list of all the unique tokens\n",
    "long_words = [word for word in V if len(word) > 15]\n",
    "sorted(long_words)\n",
    "\n",
    "#another way\n",
    "long_words = []\n",
    "for word in V:\n",
    "    if len(word) > 15:\n",
    "        long_words.append(word)"
   ]
  },
  {
   "cell_type": "code",
   "execution_count": 69,
   "metadata": {
    "slideshow": {
     "slide_type": "slide"
    }
   },
   "outputs": [
    {
     "name": "stdout",
     "output_type": "stream",
     "text": [
      "<Text: Chat Corpus>\n",
      "#talkcity_adults\n",
      "something\n",
      "football\n",
      "........\n",
      "((((((((((\n",
      "computer\n",
      "listening\n",
      "innocent\n",
      "everyone\n",
      "cute.-ass\n",
      "tomorrow\n",
      "anything\n",
      "watching\n",
      "remember\n",
      "#14-19teens\n",
      "actually\n",
      "seriously\n",
      "Question\n",
      "together\n"
     ]
    }
   ],
   "source": [
    "#trying a different text and more subset conditional statements\n",
    "fdist5 = FreqDist(text5)\n",
    "print(text5)\n",
    "sorted(w for w in set(text5) if len(w) > 7 and fdist5[w] > 7)\n",
    "\n",
    "for w in set(text5):\n",
    "    if len(w) > 7:\n",
    "        if fdist5[w] > 7:\n",
    "            print(w)"
   ]
  },
  {
   "cell_type": "markdown",
   "metadata": {
    "slideshow": {
     "slide_type": "slide"
    }
   },
   "source": [
    "# 3.3 Collocations + Bigrams\n",
    "\n",
    "**Collocations**: Sequence of words that occurs together often.\n",
    "\n",
    "**Bigrams**: (or n-grams) n-words that occur together, so a bigram are two words that occur together like *peanut butter*.\n",
    "\n",
    "The bigrams function: creates two-grams from a text.\n",
    "\n",
    "bigrams(*text you want to work with*) - helps if you put the list() function around it to convert it to something workable with python. "
   ]
  },
  {
   "cell_type": "code",
   "execution_count": 26,
   "metadata": {},
   "outputs": [
    {
     "data": {
      "text/plain": [
       "[('more', 'is'), ('is', 'said'), ('said', 'than'), ('than', 'done')]"
      ]
     },
     "execution_count": 26,
     "metadata": {},
     "output_type": "execute_result"
    }
   ],
   "source": [
    "list(bigrams(['more', 'is', 'said', 'than', 'done']))"
   ]
  },
  {
   "cell_type": "markdown",
   "metadata": {
    "slideshow": {
     "slide_type": "slide"
    }
   },
   "source": [
    "That function only creates the bigrams for us, what we really want to see is the bigrams that occur more often than you might expect given the frequency of the individual words. For example, you might expect \"of the\" to be a frequency bigram, but both individual words are also very frequent, so that's not very interesting.\n",
    "\n",
    "The collocations function: shows frequent bigrams (default), ignoring stop words.\n",
    "\n",
    "*name_of_variable*.collocations()\n",
    "- you can also include num = *number of collocations to print*\n",
    "- as well as window_size = *number of words to include in the n-gram*"
   ]
  },
  {
   "cell_type": "code",
   "execution_count": 72,
   "metadata": {
    "scrolled": false,
    "slideshow": {
     "slide_type": "slide"
    }
   },
   "outputs": [
    {
     "name": "stdout",
     "output_type": "stream",
     "text": [
      "United States; fellow citizens; four years; years ago; Federal\n",
      "Government; General Government; American people; Vice President; Old\n",
      "World; Almighty God; Fellow citizens; Chief Magistrate; Chief Justice;\n",
      "God bless; every citizen; Indian tribes; public debt; one another;\n",
      "foreign nations; political parties\n",
      "\n",
      "Help on method collocations in module nltk.text:\n",
      "\n",
      "collocations(num=20, window_size=2) method of nltk.text.Text instance\n",
      "    Print collocations derived from the text, ignoring stopwords.\n",
      "    \n",
      "    :seealso: find_collocations\n",
      "    :param num: The maximum number of collocations to print.\n",
      "    :type num: int\n",
      "    :param window_size: The number of tokens spanned by a collocation (default=2)\n",
      "    :type window_size: int\n",
      "\n"
     ]
    }
   ],
   "source": [
    "text4.collocations()\n",
    "print()\n",
    "help(text4.collocations)"
   ]
  },
  {
   "cell_type": "code",
   "execution_count": 28,
   "metadata": {
    "slideshow": {
     "slide_type": "slide"
    }
   },
   "outputs": [
    {
     "name": "stdout",
     "output_type": "stream",
     "text": [
      "United States; fellow citizens; four years; years ago; men women;\n",
      "Federal Government; General Government; self government; Vice\n",
      "President; American people\n"
     ]
    }
   ],
   "source": [
    "text4.collocations(num = 10, window_size = 4)"
   ]
  },
  {
   "cell_type": "markdown",
   "metadata": {
    "slideshow": {
     "slide_type": "slide"
    }
   },
   "source": [
    "# 3.4 Counting\n",
    "\n",
    "We could also figure out word lengths and see the frequency distribution of that combining the things we've learned above. \n",
    "\n",
    "The max function: shows you the most frequent item.\n",
    "\n",
    "*name_of_variable*.max()\n",
    "\n",
    "The freq function: shows you the frequency of selected item. \n",
    "\n",
    "*name_of_variable*.freq(*\"thing you are looking for\"*)"
   ]
  },
  {
   "cell_type": "code",
   "execution_count": 29,
   "metadata": {},
   "outputs": [
    {
     "data": {
      "text/plain": [
       "FreqDist({3: 50223, 1: 47933, 4: 42345, 2: 38513, 5: 26597, 6: 17111, 7: 14399, 8: 9966, 9: 6428, 10: 3528, ...})"
      ]
     },
     "execution_count": 29,
     "metadata": {},
     "output_type": "execute_result"
    }
   ],
   "source": [
    "fdist = FreqDist(len(w) for w in text1)\n",
    "fdist"
   ]
  },
  {
   "cell_type": "code",
   "execution_count": 30,
   "metadata": {
    "scrolled": false,
    "slideshow": {
     "slide_type": "slide"
    }
   },
   "outputs": [
    {
     "name": "stdout",
     "output_type": "stream",
     "text": [
      "[(3, 50223), (1, 47933), (4, 42345), (2, 38513), (5, 26597), (6, 17111), (7, 14399), (8, 9966), (9, 6428), (10, 3528), (11, 1873), (12, 1053), (13, 567), (14, 177), (15, 70), (16, 22), (17, 12), (18, 1), (20, 1)]\n",
      "3\n",
      "0.19255882431878046\n"
     ]
    },
    {
     "data": {
      "image/png": "[encoded data removed]",
      "text/plain": [
       "<Figure size 720x576 with 1 Axes>"
      ]
     },
     "metadata": {
      "needs_background": "light"
     },
     "output_type": "display_data"
    }
   ],
   "source": [
    "print(fdist.most_common())\n",
    "\n",
    "print(fdist.max())\n",
    "\n",
    "print(fdist.freq(3))\n",
    "\n",
    "plt.figure(figsize=(10, 8))\n",
    "fdist.plot()"
   ]
  },
  {
   "cell_type": "markdown",
   "metadata": {
    "slideshow": {
     "slide_type": "slide"
    }
   },
   "source": [
    "# Numerical Comparison Operators\n",
    "\n",
    "Operator \tRelationship\n",
    "< \tless than\n",
    "<= \tless than or equal to\n",
    "== \tequal to (note this is two \"=\" signs, not one)\n",
    "!= \tnot equal to\n",
    "> \tgreater than\n",
    ">= \tgreater than or equal to\n",
    "\n",
    "# Some Word Comparison Operators\n",
    "\n",
    "Function \tMeaning\n",
    "s.startswith(t) test if s starts with t\n",
    "s.endswith(t) \ttest if s ends with t\n",
    "t in s \t        test if t is a substring of s\n",
    "s.islower() \ttest if s contains cased characters and all are lowercase\n",
    "s.isupper() \ttest if s contains cased characters and all are uppercase\n",
    "s.isalpha() \ttest if s is non-empty and all characters in s are alphabetic\n",
    "s.isalnum() \ttest if s is non-empty and all characters in s are alphanumeric\n",
    "s.isdigit() \ttest if s is non-empty and all characters in s are digits\n",
    "s.istitle() \ttest if s contains cased characters and is titlecased (i.e. all words in s have initial capitals)\n",
    "\n",
    "Read the sections on loops and iterations - it's ok if you aren't totally comfortable with that section, as you will learn it more as we go. "
   ]
  }
 ],
 "metadata": {
  "celltoolbar": "Slideshow",
  "kernelspec": {
   "display_name": "Python 3",
   "language": "python",
   "name": "python3"
  },
  "language_info": {
   "codemirror_mode": {
    "name": "ipython",
    "version": 3
   },
   "file_extension": ".py",
   "mimetype": "text/x-python",
   "name": "python",
   "nbconvert_exporter": "python",
   "pygments_lexer": "ipython3",
   "version": "3.7.2"
  },
  "rise": {
   "autolaunch": false
  }
 },
 "nbformat": 4,
 "nbformat_minor": 2
}
