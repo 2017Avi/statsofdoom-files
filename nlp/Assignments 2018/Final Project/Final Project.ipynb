{
 "cells": [
  {
   "cell_type": "markdown",
   "metadata": {},
   "source": [
    "# Title of Your Final Project\n",
    "\n",
    "- Presenters Names: enter yo name etc . "
   ]
  },
  {
   "cell_type": "markdown",
   "metadata": {},
   "source": [
    "# Background\n",
    "\n",
    "Tell us here about your project. What is the background material, why are you interested, give us some details.\n",
    "- *italics*\n",
    "- **bold** "
   ]
  },
  {
   "cell_type": "markdown",
   "metadata": {},
   "source": [
    "# Data\n",
    "A description of the dataset, including where it was acquired from, the format of the data, and whether or not the data included any tagging."
   ]
  },
  {
   "cell_type": "markdown",
   "metadata": {},
   "source": [
    "...this will be a code block, you should delete these instructions when you have this information...\n",
    "\n",
    "Clean the data for processing: \n",
    "- Create separate jupyter chunks for this information. You can create \"sub-slides\" to hide them from the presentation, but the code should be part of this notebook. \n",
    "\n",
    "- Create a corpus appropriate for your tool\n",
    "- Tokenize the data\n",
    "- Perform basic analysis of the data (the descriptives for the slide below)"
   ]
  },
  {
   "cell_type": "code",
   "execution_count": 1,
   "metadata": {},
   "outputs": [],
   "source": [
    "import nltk"
   ]
  },
  {
   "cell_type": "markdown",
   "metadata": {},
   "source": [
    "# Describe the Data\n",
    "\n",
    "- Basic statistics about the data\n",
    "    - Number of documents\n",
    "    - Average length of document (characters and words)\n",
    "    - Frequency distribution/lexical dispersion"
   ]
  },
  {
   "cell_type": "markdown",
   "metadata": {},
   "source": [
    "# The Analysis\n",
    "\n",
    "Here you should describe the explanation of your sentiment analytic tool and method."
   ]
  },
  {
   "cell_type": "markdown",
   "metadata": {},
   "source": [
    "...this will be a code block which you can delete...\n",
    "\n",
    "- Do the analysis!\n",
    "- Train a sentiment analytic\n",
    "- Test the sentiment analytic"
   ]
  },
  {
   "cell_type": "markdown",
   "metadata": {},
   "source": [
    "# Test-Train (if appropriate)\n",
    "\n",
    "- Explanation of your training and test set creation"
   ]
  },
  {
   "cell_type": "markdown",
   "metadata": {},
   "source": [
    "# Results\n",
    "- Results of testing your analytic\n",
    "- Findings of the analytic - use the following scores if appropriate \n",
    "    - Precision\n",
    "    - Recall\n",
    "    - F-score\n",
    "    - Matrices, etc. from the chapter that you pulled most of your analysis from\n",
    "    - Performance if appropriate"
   ]
  },
  {
   "cell_type": "markdown",
   "metadata": {},
   "source": [
    "# The Big Picture\n",
    "\n",
    "- Here you should explain why we should care, what is the use of what you have done (what did we learn? how can we use that in the future, etc.)\n",
    "- Your conclusions, including anything notable you learned in the process of completing the project.\n",
    "- Remember to properly document your sources."
   ]
  }
 ],
 "metadata": {
  "kernelspec": {
   "display_name": "Python 3",
   "language": "python",
   "name": "python3"
  },
  "language_info": {
   "codemirror_mode": {
    "name": "ipython",
    "version": 3
   },
   "file_extension": ".py",
   "mimetype": "text/x-python",
   "name": "python",
   "nbconvert_exporter": "python",
   "pygments_lexer": "ipython3",
   "version": "3.7.2"
  },
  "rise": {
   "autolaunch": false
  }
 },
 "nbformat": 4,
 "nbformat_minor": 2
}
